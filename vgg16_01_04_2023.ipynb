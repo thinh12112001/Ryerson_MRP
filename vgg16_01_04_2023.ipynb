{
  "cells": [
    {
      "cell_type": "markdown",
      "metadata": {
        "id": "view-in-github",
        "colab_type": "text"
      },
      "source": [
        "<a href=\"https://colab.research.google.com/github/thinh12112001/Ryerson_MRP/blob/master/vgg16_01_04_2023.ipynb\" target=\"_parent\"><img src=\"https://colab.research.google.com/assets/colab-badge.svg\" alt=\"Open In Colab\"/></a>"
      ]
    },
    {
      "cell_type": "code",
      "execution_count": null,
      "metadata": {
        "id": "p6cH8k3XoUIW",
        "colab": {
          "base_uri": "https://localhost:8080/"
        },
        "outputId": "0a0924f4-4847-47a8-dcad-0896977e9206"
      },
      "outputs": [
        {
          "output_type": "stream",
          "name": "stdout",
          "text": [
            "Drive already mounted at /content/drive; to attempt to forcibly remount, call drive.mount(\"/content/drive\", force_remount=True).\n"
          ]
        }
      ],
      "source": [
        "from google.colab import drive\n",
        "drive.mount('/content/drive') "
      ]
    },
    {
      "cell_type": "code",
      "execution_count": null,
      "metadata": {
        "colab": {
          "base_uri": "https://localhost:8080/"
        },
        "id": "DXqSCoiFpFtR",
        "outputId": "fef53d77-cce2-4f65-b573-e43f481d8fc1"
      },
      "outputs": [
        {
          "output_type": "stream",
          "name": "stdout",
          "text": [
            "Looking in indexes: https://pypi.org/simple, https://us-python.pkg.dev/colab-wheels/public/simple/\n",
            "Requirement already satisfied: keras-applications in /usr/local/lib/python3.9/dist-packages (1.0.8)\n",
            "Requirement already satisfied: numpy>=1.9.1 in /usr/local/lib/python3.9/dist-packages (from keras-applications) (1.22.4)\n",
            "Requirement already satisfied: h5py in /usr/local/lib/python3.9/dist-packages (from keras-applications) (3.8.0)\n"
          ]
        }
      ],
      "source": [
        "pip install keras-applications\n"
      ]
    },
    {
      "cell_type": "markdown",
      "metadata": {
        "id": "Gr4WIwaKqnbO"
      },
      "source": [
        "Preprocess data\n"
      ]
    },
    {
      "cell_type": "code",
      "execution_count": null,
      "metadata": {
        "id": "bg9ds7gEqpci"
      },
      "outputs": [],
      "source": [
        "import os\n",
        "import numpy as np\n",
        "import pandas as pd\n",
        "import tensorflow as tf\n",
        "#from kaggle_datasets import KaggleDatasets\n",
        "import matplotlib.pyplot as plt\n",
        "import PIL\n",
        "\n",
        "AUTOTUNE = tf.data.experimental.AUTOTUNE\n",
        "#BATCH_SIZE = 16 * strategy.num_replicas_in_sync\n",
        "BATCH_SIZE = 16 #40\n",
        "IMAGE_SIZE = [224, 224]\n",
        "EPOCHS = 50"
      ]
    },
    {
      "cell_type": "code",
      "source": [
        "try:\n",
        "    tpu = tf.distribute.cluster_resolver.TPUClusterResolver()\n",
        "    print('Device:', tpu.master())\n",
        "    tf.config.experimental_connect_to_cluster(tpu)\n",
        "    tf.tpu.experimental.initialize_tpu_system(tpu)\n",
        "    strategy = tf.distribute.experimental.TPUStrategy(tpu)\n",
        "except:\n",
        "    strategy = tf.distribute.get_strategy()\n",
        "print('Number of replicas:', strategy.num_replicas_in_sync)\n",
        "    \n",
        "print(tf.__version__)"
      ],
      "metadata": {
        "colab": {
          "base_uri": "https://localhost:8080/"
        },
        "id": "Wr-fKCmBWiRp",
        "outputId": "5846bd5c-b341-44e6-b541-accc1e36b87b"
      },
      "execution_count": null,
      "outputs": [
        {
          "output_type": "stream",
          "name": "stdout",
          "text": [
            "Number of replicas: 1\n",
            "2.12.0\n"
          ]
        }
      ]
    },
    {
      "cell_type": "code",
      "execution_count": null,
      "metadata": {
        "colab": {
          "base_uri": "https://localhost:8080/"
        },
        "id": "xDMUaeAdqo4C",
        "outputId": "4c4a6245-2a83-46d2-dbfb-0de1d2087630"
      },
      "outputs": [
        {
          "output_type": "stream",
          "name": "stdout",
          "text": [
            "Found 5120 files belonging to 2 classes.\n",
            "Using 4096 files for training.\n",
            "Found 5120 files belonging to 2 classes.\n",
            "Using 1024 files for validation.\n"
          ]
        }
      ],
      "source": [
        "train_ds = tf.keras.preprocessing.image_dataset_from_directory(\n",
        "    \"/content/drive/MyDrive/colab/data_04/train\",\n",
        "    validation_split=0.2,\n",
        "    subset=\"training\",\n",
        "    seed=1337,\n",
        "    image_size=IMAGE_SIZE,\n",
        "    batch_size=BATCH_SIZE,\n",
        ")\n",
        "\n",
        "val_ds = tf.keras.preprocessing.image_dataset_from_directory(\n",
        "    \"/content/drive/MyDrive/colab/data_04/train\",\n",
        "    validation_split=0.2,\n",
        "    subset=\"validation\",\n",
        "    seed=1337,\n",
        "    image_size=IMAGE_SIZE,\n",
        "    batch_size=BATCH_SIZE,\n",
        ")"
      ]
    },
    {
      "cell_type": "code",
      "execution_count": null,
      "metadata": {
        "colab": {
          "base_uri": "https://localhost:8080/"
        },
        "id": "Mr5Y83ITrMB7",
        "outputId": "72c1f045-b7aa-4ae9-b685-8af564628582"
      },
      "outputs": [
        {
          "output_type": "stream",
          "name": "stdout",
          "text": [
            "2\n"
          ]
        }
      ],
      "source": [
        "class_names = ['alzheimers', 'nonalzheimers']\n",
        "train_ds.class_names = class_names\n",
        "val_ds.class_names = class_names\n",
        "\n",
        "NUM_CLASSES = len(class_names)\n",
        "print(len(class_names))"
      ]
    },
    {
      "cell_type": "code",
      "execution_count": null,
      "metadata": {
        "id": "A5XlVbJdrOmZ"
      },
      "outputs": [],
      "source": [
        "def one_hot_label(image, label):\n",
        "    label = tf.one_hot(label, NUM_CLASSES)\n",
        "    return image, label\n",
        "\n",
        "train_ds = train_ds.map(one_hot_label, num_parallel_calls=AUTOTUNE)\n",
        "val_ds = val_ds.map(one_hot_label, num_parallel_calls=AUTOTUNE)"
      ]
    },
    {
      "cell_type": "code",
      "execution_count": null,
      "metadata": {
        "id": "6p6HoLiQrUME"
      },
      "outputs": [],
      "source": [
        "train_ds = train_ds.cache().prefetch(buffer_size=AUTOTUNE)\n",
        "val_ds = val_ds.cache().prefetch(buffer_size=AUTOTUNE)"
      ]
    },
    {
      "cell_type": "code",
      "execution_count": null,
      "metadata": {
        "id": "-btrfZ4ErV5K"
      },
      "outputs": [],
      "source": [
        "NUM_IMAGES = []\n",
        "\n",
        "for label in class_names:\n",
        "    dir_name = \"/content/drive/MyDrive/colab/data_04/train/\" + label[:-2] + 'rs'\n",
        "    NUM_IMAGES.append(len([name for name in os.listdir(dir_name)]))"
      ]
    },
    {
      "cell_type": "code",
      "execution_count": null,
      "metadata": {
        "colab": {
          "base_uri": "https://localhost:8080/"
        },
        "id": "x0yUQ8OAra75",
        "outputId": "ad56fb5e-31cd-4033-facb-b00aa55d20b2"
      },
      "outputs": [
        {
          "output_type": "execute_result",
          "data": {
            "text/plain": [
              "[2560, 2560]"
            ]
          },
          "metadata": {},
          "execution_count": 30
        }
      ],
      "source": [
        "NUM_IMAGES"
      ]
    },
    {
      "cell_type": "markdown",
      "metadata": {
        "id": "UY5tRTcqrfXl"
      },
      "source": [
        "Testing data\n"
      ]
    },
    {
      "cell_type": "code",
      "execution_count": null,
      "metadata": {
        "colab": {
          "base_uri": "https://localhost:8080/"
        },
        "id": "e4QVfzX0revB",
        "outputId": "876c7c75-9c8d-4f60-b7c8-7842948fb207"
      },
      "outputs": [
        {
          "output_type": "stream",
          "name": "stdout",
          "text": [
            "Found 1280 files belonging to 2 classes.\n"
          ]
        }
      ],
      "source": [
        "test_ds = tf.keras.preprocessing.image_dataset_from_directory(\n",
        "    \"/content/drive/MyDrive/colab/data_04/validation\",\n",
        "    image_size=IMAGE_SIZE,\n",
        "    batch_size=BATCH_SIZE,\n",
        ")\n",
        "\n",
        "test_ds = test_ds.map(one_hot_label, num_parallel_calls=AUTOTUNE)\n",
        "test_ds = test_ds.cache().prefetch(buffer_size=AUTOTUNE)"
      ]
    },
    {
      "cell_type": "code",
      "execution_count": null,
      "metadata": {
        "id": "mfnhb_z6sCfp"
      },
      "outputs": [],
      "source": [
        "# def exponential_decay(lr0, s):\n",
        "#     def exponential_decay_fn(epoch):\n",
        "#         if lr0 > 0.001:\n",
        "#             return lr0 * 0.1 ** (epoch / s)\n",
        "#         return lr0  \n",
        "#     return exponential_decay_fn\n",
        "\n",
        "\n",
        "# exponential_decay_fn = exponential_decay(0.01, 20)\n",
        "\n",
        "# lr_scheduler = tf.keras.callbacks.LearningRateScheduler(exponential_decay_fn)\n",
        "\n",
        "# checkpoint_cb = tf.keras.callbacks.ModelCheckpoint(\"alzheimer_model_new.h5\",\n",
        "#                                                     save_best_only=True)\n",
        "\n",
        "# early_stopping_cb = tf.keras.callbacks.EarlyStopping(patience=10, restore_best_weights=True)"
      ]
    },
    {
      "cell_type": "code",
      "execution_count": null,
      "metadata": {
        "id": "v0xf-L1dxtrj"
      },
      "outputs": [],
      "source": [
        "import numpy as np\n",
        "import warnings\n",
        "\n",
        "from keras.models import Model\n",
        "from keras.layers import Flatten\n",
        "from keras.layers import Dense\n",
        "from keras.layers import Input\n",
        "from keras.layers import Conv2D\n",
        "from keras.layers import MaxPooling2D\n",
        "from keras.layers import GlobalMaxPooling2D\n",
        "from keras.layers import GlobalAveragePooling2D\n",
        "from keras.preprocessing import image\n",
        "from keras.utils import layer_utils\n",
        "from keras.utils.data_utils import get_file\n",
        "from keras import backend as K\n",
        "from keras_applications.imagenet_utils import decode_predictions\n",
        "from keras_applications.imagenet_utils import preprocess_input\n",
        "from keras_applications.imagenet_utils import _obtain_input_shape\n",
        "from tensorflow.keras.layers import Input\n",
        "from tensorflow.keras import Model"
      ]
    },
    {
      "cell_type": "code",
      "execution_count": null,
      "metadata": {
        "id": "s1jbwfpCJ78v"
      },
      "outputs": [],
      "source": [
        "from tensorflow.keras.applications.vgg16 import VGG16, preprocess_input\n",
        "from tensorflow.keras.preprocessing.image import ImageDataGenerator"
      ]
    },
    {
      "cell_type": "code",
      "source": [
        "# import os\n",
        "# from sklearn.model_selection import train_test_split\n",
        "# from tensorflow.keras.preprocessing.image import ImageDataGenerator\n",
        "\n",
        "# TRAINING_DIR = '/content/drive/MyDrive/colab/data_04/train'\n",
        "\n",
        "# # Split the data into training and validation sets\n",
        "# train_files, val_files = train_test_split(os.listdir(TRAINING_DIR), test_size=0.2, random_state=42)\n",
        "\n",
        "# # Define the data augmentation parameters\n",
        "# train_datagen = ImageDataGenerator(\n",
        "#     rescale=1./255,\n",
        "#     rotation_range=10,\n",
        "#     width_shift_range=0.1,\n",
        "#     height_shift_range=0.1,\n",
        "#     shear_range=0.1,\n",
        "#     zoom_range=0.1,\n",
        "#     horizontal_flip=True,\n",
        "#     vertical_flip=True,\n",
        "#     fill_mode='nearest',\n",
        "#     validation_split=0.2 # use 20% of the data for validation\n",
        "# )\n",
        "\n",
        "# # Create the data generators for training and validation sets\n",
        "# train_generator = train_datagen.flow_from_directory(\n",
        "#     TRAINING_DIR,\n",
        "#     batch_size=16,\n",
        "#     class_mode='categorical', # or 'binary'\n",
        "#     target_size=(224, 224),\n",
        "#     subset='training', # use only the training subset\n",
        "#     shuffle=True,\n",
        "#     seed=42\n",
        "# )\n",
        "# valid_datagen = ImageDataGenerator(\n",
        "#     rescale=1./255,\n",
        "#     validation_split=0.2\n",
        "# )\n",
        "# validation_generator = train_datagen.flow_from_directory(\n",
        "#     TRAINING_DIR,\n",
        "#     batch_size=16,\n",
        "#     class_mode='categorical', # or 'binary'\n",
        "#     target_size=(224, 224),\n",
        "#     subset='validation', # use only the validation subset\n",
        "#     shuffle=False,\n",
        "#     seed=42\n",
        "# )\n"
      ],
      "metadata": {
        "id": "G9rzQg945g4A"
      },
      "execution_count": null,
      "outputs": []
    },
    {
      "cell_type": "code",
      "execution_count": null,
      "metadata": {
        "colab": {
          "base_uri": "https://localhost:8080/"
        },
        "id": "eE_7dX3fxeYj",
        "outputId": "9494a5de-bfbf-4858-d03f-c442b498e482"
      },
      "outputs": [
        {
          "output_type": "stream",
          "name": "stdout",
          "text": [
            "Epoch 1/50\n",
            "256/256 [==============================] - 26s 93ms/step - loss: 48.2252 - accuracy: 0.6401 - val_loss: 2.2049 - val_accuracy: 0.6875 - lr: 0.0010\n",
            "Epoch 2/50\n",
            "256/256 [==============================] - 24s 93ms/step - loss: 1.9275 - accuracy: 0.7319 - val_loss: 1.6672 - val_accuracy: 0.7266 - lr: 0.0010\n",
            "Epoch 3/50\n",
            "256/256 [==============================] - 23s 90ms/step - loss: 1.5332 - accuracy: 0.8054 - val_loss: 1.6930 - val_accuracy: 0.7051 - lr: 0.0010\n",
            "Epoch 4/50\n",
            "256/256 [==============================] - 23s 91ms/step - loss: 1.4229 - accuracy: 0.8379 - val_loss: 1.3635 - val_accuracy: 0.7988 - lr: 0.0010\n",
            "Epoch 5/50\n",
            "256/256 [==============================] - 23s 90ms/step - loss: 1.3210 - accuracy: 0.8542 - val_loss: 1.3355 - val_accuracy: 0.7822 - lr: 0.0010\n",
            "Epoch 6/50\n",
            "256/256 [==============================] - 24s 93ms/step - loss: 1.2233 - accuracy: 0.8772 - val_loss: 1.3734 - val_accuracy: 0.8027 - lr: 0.0010\n",
            "Epoch 7/50\n",
            "256/256 [==============================] - 24s 92ms/step - loss: 1.1558 - accuracy: 0.8911 - val_loss: 1.3533 - val_accuracy: 0.8516 - lr: 0.0010\n",
            "Epoch 8/50\n",
            "256/256 [==============================] - 22s 87ms/step - loss: 1.0915 - accuracy: 0.9028 - val_loss: 1.4207 - val_accuracy: 0.8184 - lr: 0.0010\n",
            "Epoch 9/50\n",
            "256/256 [==============================] - 23s 91ms/step - loss: 1.0326 - accuracy: 0.9026 - val_loss: 1.1082 - val_accuracy: 0.8652 - lr: 0.0010\n",
            "Epoch 10/50\n",
            "256/256 [==============================] - 22s 87ms/step - loss: 0.9409 - accuracy: 0.9102 - val_loss: 1.1154 - val_accuracy: 0.8613 - lr: 0.0010\n",
            "Epoch 11/50\n",
            "256/256 [==============================] - 22s 87ms/step - loss: 0.9162 - accuracy: 0.9158 - val_loss: 1.2745 - val_accuracy: 0.8311 - lr: 0.0010\n",
            "Epoch 12/50\n",
            "256/256 [==============================] - 23s 91ms/step - loss: 0.8458 - accuracy: 0.9290 - val_loss: 0.8812 - val_accuracy: 0.8691 - lr: 0.0010\n",
            "Epoch 13/50\n",
            "256/256 [==============================] - 23s 90ms/step - loss: 0.8389 - accuracy: 0.9277 - val_loss: 1.2541 - val_accuracy: 0.8193 - lr: 0.0010\n",
            "Epoch 14/50\n",
            "256/256 [==============================] - 22s 87ms/step - loss: 0.8074 - accuracy: 0.9297 - val_loss: 1.1092 - val_accuracy: 0.8359 - lr: 0.0010\n",
            "Epoch 15/50\n",
            "256/256 [==============================] - 22s 88ms/step - loss: 0.7901 - accuracy: 0.9302 - val_loss: 0.9307 - val_accuracy: 0.8623 - lr: 0.0010\n",
            "Epoch 16/50\n",
            "256/256 [==============================] - 22s 87ms/step - loss: 0.7592 - accuracy: 0.9312 - val_loss: 1.0615 - val_accuracy: 0.8369 - lr: 0.0010\n",
            "Epoch 17/50\n",
            "256/256 [==============================] - 24s 96ms/step - loss: 0.7454 - accuracy: 0.9275 - val_loss: 0.8792 - val_accuracy: 0.8789 - lr: 0.0010\n",
            "Epoch 18/50\n",
            "256/256 [==============================] - 22s 87ms/step - loss: 0.7086 - accuracy: 0.9336 - val_loss: 1.2056 - val_accuracy: 0.7783 - lr: 0.0010\n",
            "Epoch 19/50\n",
            "256/256 [==============================] - 23s 91ms/step - loss: 0.6996 - accuracy: 0.9319 - val_loss: 0.8084 - val_accuracy: 0.8799 - lr: 0.0010\n",
            "Epoch 20/50\n",
            "256/256 [==============================] - 22s 87ms/step - loss: 0.6623 - accuracy: 0.9407 - val_loss: 0.8503 - val_accuracy: 0.8672 - lr: 0.0010\n",
            "Epoch 21/50\n",
            "256/256 [==============================] - 23s 89ms/step - loss: 0.6747 - accuracy: 0.9363 - val_loss: 0.8847 - val_accuracy: 0.8721 - lr: 0.0010\n",
            "Epoch 22/50\n",
            "256/256 [==============================] - 22s 87ms/step - loss: 0.6353 - accuracy: 0.9456 - val_loss: 0.8222 - val_accuracy: 0.8584 - lr: 0.0010\n",
            "Epoch 23/50\n",
            "256/256 [==============================] - 23s 90ms/step - loss: 0.6338 - accuracy: 0.9431 - val_loss: 0.7893 - val_accuracy: 0.8779 - lr: 0.0010\n",
            "Epoch 24/50\n",
            "256/256 [==============================] - 23s 88ms/step - loss: 0.5925 - accuracy: 0.9478 - val_loss: 0.9940 - val_accuracy: 0.8652 - lr: 0.0010\n",
            "Epoch 25/50\n",
            "256/256 [==============================] - 23s 90ms/step - loss: 0.5928 - accuracy: 0.9490 - val_loss: 1.0737 - val_accuracy: 0.8701 - lr: 0.0010\n",
            "Epoch 26/50\n",
            "256/256 [==============================] - 22s 87ms/step - loss: 0.5800 - accuracy: 0.9502 - val_loss: 0.8354 - val_accuracy: 0.8652 - lr: 0.0010\n",
            "Epoch 27/50\n",
            "256/256 [==============================] - 23s 89ms/step - loss: 0.6025 - accuracy: 0.9460 - val_loss: 1.0074 - val_accuracy: 0.8359 - lr: 0.0010\n",
            "Epoch 28/50\n",
            "256/256 [==============================] - 22s 87ms/step - loss: 0.5647 - accuracy: 0.9551 - val_loss: 1.1609 - val_accuracy: 0.8066 - lr: 0.0010\n",
            "Epoch 29/50\n",
            "256/256 [==============================] - ETA: 0s - loss: 0.5310 - accuracy: 0.9607\n",
            "Epoch 29: ReduceLROnPlateau reducing learning rate to 0.00020000000949949026.\n",
            "256/256 [==============================] - 22s 86ms/step - loss: 0.5310 - accuracy: 0.9607 - val_loss: 1.4883 - val_accuracy: 0.7852 - lr: 0.0010\n",
            "Epoch 30/50\n",
            "256/256 [==============================] - 23s 91ms/step - loss: 0.1966 - accuracy: 0.9590 - val_loss: 0.4126 - val_accuracy: 0.8857 - lr: 2.0000e-04\n",
            "Epoch 31/50\n",
            "256/256 [==============================] - 23s 92ms/step - loss: 0.1273 - accuracy: 0.9731 - val_loss: 0.4135 - val_accuracy: 0.8965 - lr: 2.0000e-04\n",
            "Epoch 32/50\n",
            "256/256 [==============================] - 23s 88ms/step - loss: 0.1232 - accuracy: 0.9739 - val_loss: 0.4702 - val_accuracy: 0.8955 - lr: 2.0000e-04\n",
            "Epoch 33/50\n",
            "256/256 [==============================] - 23s 91ms/step - loss: 0.1189 - accuracy: 0.9736 - val_loss: 0.4492 - val_accuracy: 0.8994 - lr: 2.0000e-04\n",
            "Epoch 34/50\n",
            "256/256 [==============================] - 23s 89ms/step - loss: 0.1178 - accuracy: 0.9756 - val_loss: 0.4539 - val_accuracy: 0.8975 - lr: 2.0000e-04\n",
            "Epoch 35/50\n",
            "256/256 [==============================] - 22s 87ms/step - loss: 0.1131 - accuracy: 0.9783 - val_loss: 0.4809 - val_accuracy: 0.8955 - lr: 2.0000e-04\n",
            "Epoch 36/50\n",
            "256/256 [==============================] - 22s 86ms/step - loss: 0.1027 - accuracy: 0.9800 - val_loss: 0.5054 - val_accuracy: 0.8926 - lr: 2.0000e-04\n",
            "Epoch 37/50\n",
            "256/256 [==============================] - ETA: 0s - loss: 0.0960 - accuracy: 0.9814\n",
            "Epoch 37: ReduceLROnPlateau reducing learning rate to 0.0001.\n",
            "256/256 [==============================] - 23s 91ms/step - loss: 0.0960 - accuracy: 0.9814 - val_loss: 0.5094 - val_accuracy: 0.8936 - lr: 2.0000e-04\n",
            "Epoch 38/50\n",
            "256/256 [==============================] - 23s 92ms/step - loss: 0.0971 - accuracy: 0.9778 - val_loss: 0.4477 - val_accuracy: 0.9062 - lr: 1.0000e-04\n",
            "Epoch 39/50\n",
            "256/256 [==============================] - 23s 88ms/step - loss: 0.0769 - accuracy: 0.9836 - val_loss: 0.5488 - val_accuracy: 0.8975 - lr: 1.0000e-04\n",
            "Epoch 40/50\n",
            "256/256 [==============================] - 23s 92ms/step - loss: 0.0712 - accuracy: 0.9822 - val_loss: 0.4792 - val_accuracy: 0.9014 - lr: 1.0000e-04\n",
            "Epoch 41/50\n",
            "256/256 [==============================] - 23s 90ms/step - loss: 0.0788 - accuracy: 0.9810 - val_loss: 0.5191 - val_accuracy: 0.9082 - lr: 1.0000e-04\n",
            "Epoch 42/50\n",
            "256/256 [==============================] - 22s 86ms/step - loss: 0.0742 - accuracy: 0.9805 - val_loss: 0.4640 - val_accuracy: 0.9053 - lr: 1.0000e-04\n",
            "Epoch 43/50\n",
            "256/256 [==============================] - 23s 89ms/step - loss: 0.0739 - accuracy: 0.9824 - val_loss: 0.5499 - val_accuracy: 0.9062 - lr: 1.0000e-04\n",
            "Epoch 44/50\n",
            "256/256 [==============================] - 23s 91ms/step - loss: 0.0701 - accuracy: 0.9839 - val_loss: 0.5013 - val_accuracy: 0.9014 - lr: 1.0000e-04\n",
            "Epoch 45/50\n",
            "256/256 [==============================] - 24s 94ms/step - loss: 0.0704 - accuracy: 0.9817 - val_loss: 0.4578 - val_accuracy: 0.9102 - lr: 1.0000e-04\n",
            "Epoch 46/50\n",
            "256/256 [==============================] - 23s 90ms/step - loss: 0.0543 - accuracy: 0.9883 - val_loss: 0.5166 - val_accuracy: 0.9004 - lr: 1.0000e-04\n",
            "Epoch 47/50\n",
            "256/256 [==============================] - 22s 86ms/step - loss: 0.0682 - accuracy: 0.9849 - val_loss: 0.5094 - val_accuracy: 0.9033 - lr: 1.0000e-04\n",
            "Epoch 48/50\n",
            "256/256 [==============================] - 23s 89ms/step - loss: 0.0619 - accuracy: 0.9873 - val_loss: 0.4721 - val_accuracy: 0.9023 - lr: 1.0000e-04\n",
            "Epoch 49/50\n",
            "256/256 [==============================] - 22s 87ms/step - loss: 0.0592 - accuracy: 0.9863 - val_loss: 0.5615 - val_accuracy: 0.8936 - lr: 1.0000e-04\n",
            "Epoch 50/50\n",
            "256/256 [==============================] - 22s 86ms/step - loss: 0.0593 - accuracy: 0.9854 - val_loss: 0.5204 - val_accuracy: 0.9043 - lr: 1.0000e-04\n"
          ]
        }
      ],
      "source": [
        "from keras.utils.layer_utils import get_source_inputs\n",
        "from tensorflow.keras.layers import Input, AveragePooling2D, Flatten, Dense, Dropout\n",
        "from tensorflow.keras.applications import VGG16\n",
        "from tensorflow.keras.models import Model\n",
        "from keras.layers import BatchNormalization\n",
        "from tensorflow.keras.optimizers import Adam\n",
        "from tensorflow.keras import regularizers\n",
        "from keras.callbacks import ReduceLROnPlateau\n",
        "wp = '/content/drive/MyDrive/colab/vgg16-kernels-notop-h5/vgg16_weights_tf_dim_ordering_tf_kernels_notop.h5'\n",
        "\n",
        "#mailchung\n",
        "#wp = '/content/drive/MyDrive/vgg16-kernel-notop/vgg16_weights_tf_dim_ordering_tf_kernels_notop.h5'\n",
        "#end\n",
        "vgg16_base = VGG16(include_top=False, weights=wp,\n",
        "                   input_tensor=None, input_shape=(224, 224, 3))\n",
        "\n",
        "\n",
        "\n",
        "\n",
        "output = vgg16_base.get_layer(index = -1).output  \n",
        "output = Flatten()(output)\n",
        "output = Dense(1024, activation=\"relu\")(output) # , kernel_regularizer=regularizers.l2(0.01) ==> không tăng val_acc\n",
        "output = BatchNormalization()(output)\n",
        "output = Dropout(0.55)(output) #0.2\n",
        "output = Dense(1024,activation = \"relu\", kernel_regularizer=regularizers.l2(1))(output) #0.01, kernel_regularizer=regularizers.l2(0.01)\n",
        "output = BatchNormalization()(output)\n",
        "output = Dropout(0.55)(output)\n",
        "output = Dense(2, activation='softmax')(output) #sigmoid if binary\n",
        "\n",
        "\n",
        "\n",
        "vgg16_model = Model(vgg16_base.input, output)\n",
        "for layer in vgg16_model.layers[:-7]:\n",
        "    layer.trainable = False\n",
        "\n",
        "rop_callback = ReduceLROnPlateau(\n",
        "    monitor='val_loss',\n",
        "    factor=0.2,\n",
        "    patience=6,\n",
        "    verbose=1,\n",
        "    mode='min',\n",
        "    min_delta=0.0001,\n",
        "    cooldown=3,\n",
        "    min_lr=0.0001\n",
        ")\n",
        "\n",
        "from keras.callbacks import EarlyStopping, ModelCheckpoint\n",
        "early_stopping = EarlyStopping(monitor='val_accuracy', patience=15)\n",
        "model_checkpoint = ModelCheckpoint('best_model.h5', save_best_only=True, save_weights_only=False, monitor='val_accuracy', mode='max')\n",
        "#adam\n",
        "vgg16_model.compile(optimizer='rmsprop', loss='categorical_crossentropy',metrics =['accuracy']) # binary_crossentropy if binary\n",
        "\n",
        "# with strategy.scope():\n",
        "#     # METRICS = [tf.keras.metrics.Accuracy(name='acc')]\n",
        "#     METRICS = [tf.keras.metrics.BinaryAccuracy(name='acc')]\n",
        "#     model.compile(\n",
        "#         optimizer='adam',\n",
        "#         loss=tf.losses.CategoricalCrossentropy(),\n",
        "#         metrics=METRICS\n",
        "#     )\n",
        "history = vgg16_model.fit(\n",
        "    train_ds,\n",
        "    validation_data=val_ds,\n",
        "    callbacks=[rop_callback,early_stopping, model_checkpoint], #early_stopping\n",
        "    epochs=EPOCHS\n",
        ")"
      ]
    },
    {
      "cell_type": "code",
      "execution_count": null,
      "metadata": {
        "id": "JnBUW6JeHo_m",
        "colab": {
          "base_uri": "https://localhost:8080/"
        },
        "outputId": "0564a859-338b-436c-9769-b9a42d201c73"
      },
      "outputs": [
        {
          "output_type": "stream",
          "name": "stdout",
          "text": [
            "80/80 [==============================] - 5s 67ms/step - loss: 0.4593 - accuracy: 0.9055\n"
          ]
        }
      ],
      "source": [
        "_ = vgg16_model.evaluate(test_ds)"
      ]
    },
    {
      "cell_type": "code",
      "execution_count": null,
      "metadata": {
        "id": "vSxN7v9ZIpeV",
        "colab": {
          "base_uri": "https://localhost:8080/",
          "height": 206
        },
        "outputId": "c7e2f1c8-0d9f-476b-c633-3ca5d06a449b"
      },
      "outputs": [
        {
          "output_type": "display_data",
          "data": {
            "text/plain": [
              "<Figure size 2000x300 with 2 Axes>"
            ],
            "image/png": "[encoded data removed]"
          },
          "metadata": {}
        }
      ],
      "source": [
        "fig, ax = plt.subplots(1, 2, figsize=(20, 3))\n",
        "ax = ax.ravel()\n",
        "\n",
        "for i, met in enumerate(['accuracy', 'loss']):\n",
        "    ax[i].plot(history.history[met])\n",
        "    ax[i].plot(history.history['val_' + met])\n",
        "    ax[i].set_title('Model {}'.format(met))\n",
        "    ax[i].set_xlabel('epochs')\n",
        "    ax[i].set_ylabel(met)\n",
        "    ax[i].legend(['train', 'val'])"
      ]
    }
  ],
  "metadata": {
    "accelerator": "GPU",
    "colab": {
      "provenance": [],
      "include_colab_link": true
    },
    "gpuClass": "standard",
    "kernelspec": {
      "display_name": "Python 3",
      "name": "python3"
    },
    "language_info": {
      "name": "python"
    }
  },
  "nbformat": 4,
  "nbformat_minor": 0
}